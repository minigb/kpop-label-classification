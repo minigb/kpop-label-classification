{
 "cells": [
  {
   "cell_type": "code",
   "execution_count": 11,
   "metadata": {},
   "outputs": [],
   "source": [
    "import pandas as pd\n",
    "from utils import get_song_id, decode_song_id\n",
    "from pathlib import Path"
   ]
  },
  {
   "cell_type": "code",
   "execution_count": 12,
   "metadata": {},
   "outputs": [],
   "source": [
    "def move_audio(fn, from_dir, to_dir):\n",
    "    assert Path(from_dir / fn).exists(), f'{fn} does not exist in {from_dir}'\n",
    "    Path(to_dir).mkdir(parents=True, exist_ok=True)\n",
    "    Path(from_dir / fn).rename(to_dir / fn)"
   ]
  },
  {
   "cell_type": "code",
   "execution_count": 13,
   "metadata": {},
   "outputs": [],
   "source": [
    "# for fn in Path('audio_tmp').glob('*.mp3'):\n",
    "#     fn = fn.name\n",
    "#     move_audio(fn, Path('audio_tmp'), Path(f'audio'))"
   ]
  },
  {
   "cell_type": "code",
   "execution_count": 14,
   "metadata": {},
   "outputs": [],
   "source": [
    "def remove_keyword(keyword, df_fn):\n",
    "    df = pd.read_csv(df_fn)\n",
    "    idx_to_remove = []\n",
    "    for idx, row in df.iterrows():\n",
    "        yt_title = row['video_title']\n",
    "        if keyword in yt_title.lower() and keyword not in row['Song'].lower():\n",
    "            idx_to_remove.append(idx)\n",
    "    \n",
    "    df_dropped = df.loc[idx_to_remove]\n",
    "    df = df.drop(idx_to_remove)\n",
    "    df.to_csv(df_fn, index=False)\n",
    "\n",
    "    df_dropped = df_dropped.drop(columns=['query_idx','official','topic','channel_artist_same','keywords','video_title','video_channel','video_url'])\n",
    "    df_dropped['Failed reason'] = 'No suitable video'\n",
    "    df_dropped.to_csv(df_fn.replace('.csv', '_dropped.csv'), index=False)\n",
    "\n",
    "    for idx, row in df_dropped.iterrows():\n",
    "        year = row['Year']\n",
    "        title = row['Song']\n",
    "        artist = row['Artist']\n",
    "        song_id = get_song_id(year, title, artist)\n",
    "\n",
    "        song_fn = Path(f'{song_id}.mp3')\n",
    "        from_dir = Path('audio')\n",
    "        to_dir = Path('audio_tmp')\n",
    "        move_audio(song_fn, from_dir, to_dir)"
   ]
  },
  {
   "cell_type": "code",
   "execution_count": 15,
   "metadata": {},
   "outputs": [],
   "source": [
    "# remove_keyword('practice', 'csv/kpop_chosen.csv')"
   ]
  },
  {
   "cell_type": "code",
   "execution_count": 16,
   "metadata": {},
   "outputs": [],
   "source": [
    "from pathlib import Path\n",
    "\n",
    "def get_list_of_availablity(chosen_df_fn):\n",
    "    chosen_df_fn = Path(chosen_df_fn)\n",
    "    df = pd.read_csv(chosen_df_fn)\n",
    "    file_path = Path('audio')\n",
    "    mp3_list = list(file_path.glob('*.mp3'))\n",
    "    print(len(mp3_list))\n",
    "\n",
    "    preserve_idx = []\n",
    "    no_mp3_idx = []\n",
    "    valid_mp3 = []\n",
    "    for idx, row in df.iterrows():\n",
    "        year = row['Year']\n",
    "        title = row['Song']\n",
    "        artist = row['Artist']\n",
    "        song_id = get_song_id(year, title, artist)\n",
    "        if not Path(f'audio/{song_id}.mp3').exists():\n",
    "            no_mp3_idx.append(idx)\n",
    "        else:\n",
    "            preserve_idx.append(idx)\n",
    "            valid_mp3.append(song_id)\n",
    "\n",
    "    return preserve_idx, no_mp3_idx, valid_mp3"
   ]
  },
  {
   "cell_type": "code",
   "execution_count": 17,
   "metadata": {},
   "outputs": [],
   "source": [
    "# chosen_df_fn = 'csv/kpop_chosen.csv'\n",
    "# preserve_idx, no_mp3_idx, _ = get_list_of_availablity(chosen_df_fn)\n",
    "# df = pd.read_csv(chosen_df_fn)\n",
    "# df.loc[preserve_idx].to_csv(chosen_df_fn, index=False)\n",
    "# no_mp3 = df.loc[no_mp3_idx].drop(columns=['query_idx','official','topic','channel_artist_same','keywords','video_title','video_channel','video_url'])\n",
    "# print(len(no_mp3_idx))\n",
    "# no_mp3.to_csv('tmp.csv', index=False)"
   ]
  },
  {
   "cell_type": "code",
   "execution_count": 18,
   "metadata": {},
   "outputs": [
    {
     "name": "stdout",
     "output_type": "stream",
     "text": [
      "5501\n"
     ]
    }
   ],
   "source": [
    "chosen_df_fn = 'csv/kpop_chosen.csv'\n",
    "preserve_idx, no_mp3_idx, valid_mp3 = get_list_of_availablity(chosen_df_fn)\n",
    "df = pd.read_csv(chosen_df_fn)\n",
    "\n",
    "for fn in Path('audio').glob('*.mp3'):\n",
    "    song_id = fn.stem\n",
    "    if song_id not in valid_mp3:\n",
    "        move_audio(fn.name, Path('audio'), Path('audio_tmp'))"
   ]
  },
  {
   "cell_type": "code",
   "execution_count": 20,
   "metadata": {},
   "outputs": [
    {
     "data": {
      "text/plain": [
       "(5477, 5477)"
      ]
     },
     "execution_count": 20,
     "metadata": {},
     "output_type": "execute_result"
    }
   ],
   "source": [
    "len(pd.read_csv('csv/kpop_chosen.csv')), len(list(Path('audio').glob('*.mp3')))"
   ]
  },
  {
   "cell_type": "code",
   "execution_count": null,
   "metadata": {},
   "outputs": [],
   "source": []
  }
 ],
 "metadata": {
  "kernelspec": {
   "display_name": "kpop",
   "language": "python",
   "name": "python3"
  },
  "language_info": {
   "codemirror_mode": {
    "name": "ipython",
    "version": 3
   },
   "file_extension": ".py",
   "mimetype": "text/x-python",
   "name": "python",
   "nbconvert_exporter": "python",
   "pygments_lexer": "ipython3",
   "version": "3.10.14"
  }
 },
 "nbformat": 4,
 "nbformat_minor": 2
}
