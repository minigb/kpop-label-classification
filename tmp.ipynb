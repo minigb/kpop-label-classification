{
 "cells": [
  {
   "cell_type": "code",
   "execution_count": 1,
   "metadata": {},
   "outputs": [],
   "source": [
    "import pandas as pd\n",
    "from utils import get_song_id, decode_song_id"
   ]
  },
  {
   "cell_type": "code",
   "execution_count": 2,
   "metadata": {},
   "outputs": [
    {
     "name": "stdout",
     "output_type": "stream",
     "text": [
      "3959\n"
     ]
    }
   ],
   "source": [
    "# from pathlib import Path\n",
    "# df = pd.read_csv('csv/kpop_chosen.csv')\n",
    "# file_path = Path('audio')\n",
    "# mp3_list = list(file_path.glob('*.mp3'))\n",
    "# print(len(mp3_list))\n",
    "\n",
    "# not_in_csv = []\n",
    "# for audio_fn in mp3_list:\n",
    "#     audio_fn = audio_fn.stem\n",
    "#     year, title, artist = decode_song_id(audio_fn)\n",
    "#     row = df[df['Year'] == int(year)]\n",
    "#     row = row[row['Song'] == title]\n",
    "#     row = row[row['Artist'] == artist]\n",
    "#     if row.empty:\n",
    "#         not_in_csv.append(audio_fn)\n",
    "# not_in_csv"
   ]
  },
  {
   "cell_type": "code",
   "execution_count": 13,
   "metadata": {},
   "outputs": [
    {
     "name": "stdout",
     "output_type": "stream",
     "text": [
      "3712\n"
     ]
    },
    {
     "data": {
      "text/plain": [
       "[]"
      ]
     },
     "execution_count": 13,
     "metadata": {},
     "output_type": "execute_result"
    }
   ],
   "source": [
    "from pathlib import Path\n",
    "df = pd.read_csv('csv/kpop_chosen.csv')\n",
    "file_path = Path('audio')\n",
    "mp3_list = list(file_path.glob('*.mp3'))\n",
    "print(len(mp3_list))\n",
    "\n",
    "no_mp3 = []\n",
    "for _, row in df.iterrows():\n",
    "    year = row['Year']\n",
    "    title = row['Song']\n",
    "    artist = row['Artist']\n",
    "    song_id = get_song_id(year, title, artist)\n",
    "    if not Path(f'audio/{song_id}.mp3').exists():\n",
    "        no_mp3.append(song_id)\n",
    "\n",
    "no_mp3"
   ]
  },
  {
   "cell_type": "code",
   "execution_count": 14,
   "metadata": {},
   "outputs": [
    {
     "data": {
      "text/plain": [
       "(3712, 3712)"
      ]
     },
     "execution_count": 14,
     "metadata": {},
     "output_type": "execute_result"
    }
   ],
   "source": [
    "len(mp3_list), len(df)"
   ]
  },
  {
   "cell_type": "code",
   "execution_count": 6,
   "metadata": {},
   "outputs": [],
   "source": [
    "idx_to_remove = []\n",
    "for idx, row in df.iterrows():\n",
    "    yt_title = row['video_title']\n",
    "    if 'm/v' in yt_title.lower() and 'm/v' not in row['Song'].lower():\n",
    "        idx_to_remove.append(idx)\n",
    "\n",
    "df_dropped = df.loc[idx_to_remove]\n",
    "df = df.drop(idx_to_remove)\n",
    "df.to_csv('csv/kpop_chosen.csv', index=False)\n",
    "df_dropped.to_csv('csv/kpop_dropped.csv', index=False)"
   ]
  },
  {
   "cell_type": "code",
   "execution_count": 10,
   "metadata": {},
   "outputs": [],
   "source": [
    "for idx, row in df_dropped.iterrows():\n",
    "    year = row['Year']\n",
    "    title = row['Song']\n",
    "    artist = row['Artist']\n",
    "    song_id = get_song_id(year, title, artist)\n",
    "    song_fn = Path(f'audio/{song_id}.mp3')\n",
    "    if not song_fn.exists():\n",
    "        print(song_id)\n",
    "        continue\n",
    "    song_fn.rename(f'audio_tmp/{song_id}.mp3')"
   ]
  },
  {
   "cell_type": "code",
   "execution_count": 15,
   "metadata": {},
   "outputs": [],
   "source": [
    "df_dropped.drop(columns=['Year','Song','Artist']).to_csv('csv/kpop_dropped_2.csv', index=False)"
   ]
  },
  {
   "cell_type": "code",
   "execution_count": null,
   "metadata": {},
   "outputs": [],
   "source": []
  }
 ],
 "metadata": {
  "kernelspec": {
   "display_name": "kpop",
   "language": "python",
   "name": "python3"
  },
  "language_info": {
   "codemirror_mode": {
    "name": "ipython",
    "version": 3
   },
   "file_extension": ".py",
   "mimetype": "text/x-python",
   "name": "python",
   "nbconvert_exporter": "python",
   "pygments_lexer": "ipython3",
   "version": "3.10.14"
  }
 },
 "nbformat": 4,
 "nbformat_minor": 2
}
