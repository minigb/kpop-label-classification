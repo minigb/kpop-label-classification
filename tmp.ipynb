{
 "cells": [
  {
   "cell_type": "code",
   "execution_count": 1,
   "metadata": {},
   "outputs": [],
   "source": [
    "import pandas as pd\n",
    "from utils import get_song_id, decode_song_id"
   ]
  },
  {
   "cell_type": "code",
   "execution_count": 2,
   "metadata": {},
   "outputs": [
    {
     "name": "stdout",
     "output_type": "stream",
     "text": [
      "3959\n"
     ]
    }
   ],
   "source": [
    "from pathlib import Path\n",
    "df = pd.read_csv('csv/kpop_chosen.csv')\n",
    "file_path = Path('audio')\n",
    "mp3_list = list(file_path.glob('*.mp3'))\n",
    "print(len(mp3_list))\n",
    "\n",
    "# not_in_csv = []\n",
    "# for audio_fn in mp3_list:\n",
    "#     audio_fn = audio_fn.stem\n",
    "#     year, title, artist = decode_song_id(audio_fn)\n",
    "#     row = df[df['Year'] == int(year)]\n",
    "#     row = row[row['Song'] == title]\n",
    "#     row = row[row['Artist'] == artist]\n",
    "#     if row.empty:\n",
    "#         not_in_csv.append(audio_fn)\n",
    "# not_in_csv"
   ]
  },
  {
   "cell_type": "code",
   "execution_count": 3,
   "metadata": {},
   "outputs": [
    {
     "data": {
      "text/plain": [
       "['{1997}_{궁금해 (Curious)}_{S.E.S.}',\n",
       " '{2010}_{Change (feat. Junhyung)}_{HyunA}',\n",
       " '{2015}_{Devil}_{Super Junior}',\n",
       " '{2021}_{Good Night}_{Seo Eunkwang}',\n",
       " '{2023}_{NOT LIKE YOU}_{STAYC}']"
      ]
     },
     "execution_count": 3,
     "metadata": {},
     "output_type": "execute_result"
    }
   ],
   "source": [
    "no_mp3 = []\n",
    "for _, row in df.iterrows():\n",
    "    year = row['Year']\n",
    "    title = row['Song']\n",
    "    artist = row['Artist']\n",
    "    song_id = get_song_id(year, title, artist)\n",
    "    if not Path(f'audio/{song_id}.mp3').exists():\n",
    "        no_mp3.append(song_id)\n",
    "\n",
    "no_mp3"
   ]
  },
  {
   "cell_type": "code",
   "execution_count": 4,
   "metadata": {},
   "outputs": [
    {
     "data": {
      "text/plain": [
       "(3959, 3964)"
      ]
     },
     "execution_count": 4,
     "metadata": {},
     "output_type": "execute_result"
    }
   ],
   "source": [
    "len(mp3_list), len(df)"
   ]
  },
  {
   "cell_type": "code",
   "execution_count": null,
   "metadata": {},
   "outputs": [],
   "source": []
  }
 ],
 "metadata": {
  "kernelspec": {
   "display_name": "kpop",
   "language": "python",
   "name": "python3"
  },
  "language_info": {
   "codemirror_mode": {
    "name": "ipython",
    "version": 3
   },
   "file_extension": ".py",
   "mimetype": "text/x-python",
   "name": "python",
   "nbconvert_exporter": "python",
   "pygments_lexer": "ipython3",
   "version": "3.10.14"
  }
 },
 "nbformat": 4,
 "nbformat_minor": 2
}
