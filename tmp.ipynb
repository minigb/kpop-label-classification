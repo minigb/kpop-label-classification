{
 "cells": [
  {
   "cell_type": "code",
   "execution_count": 8,
   "metadata": {},
   "outputs": [],
   "source": [
    "import pandas as pd\n",
    "from utils import get_song_id, decode_song_id"
   ]
  },
  {
   "cell_type": "code",
   "execution_count": 9,
   "metadata": {},
   "outputs": [],
   "source": [
    "def remove_keyword(keyword, df_fn):\n",
    "    df = pd.read_csv(df_fn)\n",
    "    idx_to_remove = []\n",
    "    for idx, row in df.iterrows():\n",
    "        yt_title = row['video_title']\n",
    "        if keyword in yt_title.lower() and keyword not in row['Song'].lower():\n",
    "            idx_to_remove.append(idx)\n",
    "    \n",
    "    df_dropped = df.loc[idx_to_remove]\n",
    "    df = df.drop(idx_to_remove)\n",
    "    df.to_csv(df_fn, index=False)\n",
    "\n",
    "    df_dropped = df_dropped.drop(columns=['query_idx','official','topic','channel_artist_same','keywords','video_title','video_channel','video_url'])\n",
    "    df_dropped['Failed reason'] = 'No suitable video'\n",
    "    df_dropped.to_csv(df_fn.replace('.csv', '_dropped.csv'), index=False)\n",
    "\n",
    "    for idx, row in df_dropped.iterrows():\n",
    "        year = row['Year']\n",
    "        title = row['Song']\n",
    "        artist = row['Artist']\n",
    "        song_id = get_song_id(year, title, artist)\n",
    "        song_fn = Path(f'audio/{song_id}.mp3')\n",
    "        if not song_fn.exists():\n",
    "            print(song_id)\n",
    "            continue\n",
    "        song_fn.rename(f'audio_tmp/{song_id}.mp3')"
   ]
  },
  {
   "cell_type": "code",
   "execution_count": 10,
   "metadata": {},
   "outputs": [],
   "source": [
    "# remove_keyword('practice', 'csv/kpop_chosen.csv')"
   ]
  },
  {
   "cell_type": "code",
   "execution_count": 11,
   "metadata": {},
   "outputs": [
    {
     "name": "stdout",
     "output_type": "stream",
     "text": [
      "4540\n"
     ]
    },
    {
     "data": {
      "text/plain": [
       "(['{2011}_{Help Me}_{Miss A}',\n",
       "  '{2015}_{Ma City}_{BTS}',\n",
       "  '{2016}_{Call You Bae (feat. Xiumin)}_{Jimin (지민)}',\n",
       "  '{2016}_{Taste the Feeling}_{NCT 127}',\n",
       "  '{2017}_{뜨거운 감자 (Hot Potato)}_{N.Flying (엔플라잉)}',\n",
       "  '{2017}_{Dance Dance}_{DAY6}',\n",
       "  '{2019}_{With Love (Haebaragi cover)}_{강승윤}',\n",
       "  '{2020}_{Holding On}_{iKON}',\n",
       "  '{2020}_{Basquiat (바스키아)}_{Pentagon}'],\n",
       " 4540,\n",
       " 4549)"
      ]
     },
     "execution_count": 11,
     "metadata": {},
     "output_type": "execute_result"
    }
   ],
   "source": [
    "from pathlib import Path\n",
    "df = pd.read_csv('csv/kpop_chosen.csv')\n",
    "file_path = Path('audio')\n",
    "mp3_list = list(file_path.glob('*.mp3'))\n",
    "print(len(mp3_list))\n",
    "\n",
    "no_mp3 = []\n",
    "for _, row in df.iterrows():\n",
    "    year = row['Year']\n",
    "    title = row['Song']\n",
    "    artist = row['Artist']\n",
    "    song_id = get_song_id(year, title, artist)\n",
    "    if not Path(f'audio/{song_id}.mp3').exists():\n",
    "        no_mp3.append(song_id)\n",
    "\n",
    "no_mp3, len(mp3_list), len(df)"
   ]
  }
 ],
 "metadata": {
  "kernelspec": {
   "display_name": "kpop",
   "language": "python",
   "name": "python3"
  },
  "language_info": {
   "codemirror_mode": {
    "name": "ipython",
    "version": 3
   },
   "file_extension": ".py",
   "mimetype": "text/x-python",
   "name": "python",
   "nbconvert_exporter": "python",
   "pygments_lexer": "ipython3",
   "version": "3.10.14"
  }
 },
 "nbformat": 4,
 "nbformat_minor": 2
}
