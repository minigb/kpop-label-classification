{
 "cells": [
  {
   "cell_type": "code",
   "execution_count": 1,
   "metadata": {},
   "outputs": [],
   "source": [
    "from collections import defaultdict, Counter\n",
    "\n",
    "import pandas as pd\n",
    "from pathlib import Path\n",
    "\n",
    "from utils.json import load_json\n",
    "from utils.song_id import decode_song_id"
   ]
  },
  {
   "cell_type": "code",
   "execution_count": 2,
   "metadata": {},
   "outputs": [
    {
     "data": {
      "text/plain": [
       "(17254, 14730)"
      ]
     },
     "execution_count": 2,
     "metadata": {},
     "output_type": "execute_result"
    }
   ],
   "source": [
    "song_df = pd.read_csv('kpop-dataset/song_list.csv')\n",
    "chosen_df = pd.read_csv('kpop-dataset/csv/kpop_chosen.csv')\n",
    "\n",
    "len(song_df), len(chosen_df)"
   ]
  },
  {
   "cell_type": "code",
   "execution_count": 3,
   "metadata": {},
   "outputs": [],
   "source": [
    "idx_to_remove = []\n",
    "for i, row in song_df.iterrows():\n",
    "    year, title, artist = row['year'], row['title'], row['track_artist']\n",
    "    \n",
    "    if chosen_df[(chosen_df['Year'] == year) & (chosen_df['Song'] == title) \\\n",
    "             & (chosen_df['Artist'] == artist)].empty:\n",
    "        idx_to_remove.append(i)\n",
    "\n",
    "song_df = song_df.drop(idx_to_remove)"
   ]
  },
  {
   "cell_type": "code",
   "execution_count": 4,
   "metadata": {},
   "outputs": [
    {
     "data": {
      "text/plain": [
       "Counter({'SM Entertainment': 3012,\n",
       "         'JYP Entertainment': 1488,\n",
       "         'YG Entertainment': 881,\n",
       "         'FNC Entertainment': 810,\n",
       "         'Cube Entertainment': 715,\n",
       "         'Starship Entertainment': 598,\n",
       "         'DSP Media': 590,\n",
       "         'Rainbow Bridge World': 505,\n",
       "         'Pledis Entertainment': 420,\n",
       "         'Woollim Entertainment': 417,\n",
       "         'Big Hit Entertainment': 302,\n",
       "         'Jellyfish Entertainment': 294,\n",
       "         'ICONIX': 241,\n",
       "         'fantagio music': 229,\n",
       "         'LOEN Entertainment': 223,\n",
       "         'WAKEONE': 219,\n",
       "         'Core Contents Media': 181,\n",
       "         'NH Media': 161,\n",
       "         'Source Music': 160,\n",
       "         'Nega Network': 137,\n",
       "         'Dreamcatcher Company': 124,\n",
       "         'KQ Entertainment': 114,\n",
       "         'BPM Entertainment': 113,\n",
       "         'J. Tune Camp': 87,\n",
       "         'MNH Entertainment': 82,\n",
       "         'Seven Seasons': 76,\n",
       "         'OFF THE RECORD Entertainment': 73,\n",
       "         'MODHAUS': 70,\n",
       "         'B2M Entertainment': 69,\n",
       "         'Around US Entertainment': 69,\n",
       "         'Good Entertainment': 65,\n",
       "         'SidusHQ': 64,\n",
       "         'DreamT Entertainment': 64,\n",
       "         'BlockBerry Creative': 62,\n",
       "         'YMC Entertainment': 58,\n",
       "         'Banana Culture': 55,\n",
       "         'BELIFT LAB': 54,\n",
       "         'Happy Face Entertainment': 49,\n",
       "         'Shinhwa Company': 48,\n",
       "         'Konnect Entertainment': 48,\n",
       "         'Yuehua Entertainment': 40,\n",
       "         'P NATION': 33,\n",
       "         'S2 Entertainment': 32,\n",
       "         'GYM Entertainment': 25,\n",
       "         'Kakao M Corp': 25,\n",
       "         'KOZ Entertainment': 25,\n",
       "         'High Up Entertainment': 24,\n",
       "         'Danal Entertainment': 21,\n",
       "         'APOP Entertainment': 21,\n",
       "         '143 Entertainment': 20,\n",
       "         'Chrome Entertainment': 19,\n",
       "         'ADOR': 18,\n",
       "         'R.A.I': 17,\n",
       "         'Culture Depot': 15,\n",
       "         'Bridʒ': 15,\n",
       "         'The Black Label': 14,\n",
       "         'YNB Entertainment': 10,\n",
       "         'Transparent Arts': 9,\n",
       "         'TAMAGO PRODUCTION': 9,\n",
       "         'Infinite Company': 4,\n",
       "         'Kiwi Media Group': 3,\n",
       "         'JWK Entertainment': 3,\n",
       "         'The South': 2,\n",
       "         'AT AREA': 2,\n",
       "         'GF Entertainment': 1,\n",
       "         'Antenna Music': 1,\n",
       "         'Alomalo Entertainment': 1,\n",
       "         'More Vision': 1})"
      ]
     },
     "execution_count": 4,
     "metadata": {},
     "output_type": "execute_result"
    }
   ],
   "source": [
    "counter = Counter(song_df['label'])\n",
    "counter"
   ]
  },
  {
   "cell_type": "code",
   "execution_count": 5,
   "metadata": {},
   "outputs": [],
   "source": [
    "def get_year_class(year):\n",
    "    year = int(year)\n",
    "    year = max(1995, year)\n",
    "    year = min(2024, year)\n",
    "    return (year - 1995) // 6"
   ]
  },
  {
   "cell_type": "code",
   "execution_count": 6,
   "metadata": {},
   "outputs": [
    {
     "name": "stdout",
     "output_type": "stream",
     "text": [
      "train SM: 837\n",
      "train YG: 837\n",
      "train JYP: 837\n",
      "train HYBE: 837\n",
      "train 0: 120\n",
      "train 1: 357\n",
      "train 2: 519\n",
      "train 3: 1081\n",
      "train 4: 1271\n",
      "--------------------------------------------------\n",
      "valid SM: 105\n",
      "valid YG: 105\n",
      "valid JYP: 105\n",
      "valid HYBE: 105\n",
      "valid 0: 11\n",
      "valid 1: 48\n",
      "valid 2: 64\n",
      "valid 3: 137\n",
      "valid 4: 160\n",
      "--------------------------------------------------\n",
      "test SM: 105\n",
      "test YG: 105\n",
      "test JYP: 105\n",
      "test HYBE: 105\n",
      "test 0: 13\n",
      "test 1: 43\n",
      "test 2: 74\n",
      "test 3: 154\n",
      "test 4: 136\n",
      "--------------------------------------------------\n"
     ]
    }
   ],
   "source": [
    "song_usage_json_path = Path('kpop-dataset/song_usage.json')\n",
    "song_usage_dict = load_json(song_usage_json_path)\n",
    "\n",
    "for data_type, song_id_dict in song_usage_dict.items():\n",
    "    if data_type in ['train', 'test', 'valid']:\n",
    "        ids_per_label = {}\n",
    "        ids_per_year = defaultdict(list)\n",
    "        for label, song_id_list in song_id_dict.items():\n",
    "            ids_per_label[label] = set(song_id_list)\n",
    "            for song_id in song_id_list:\n",
    "                year, _, _ = decode_song_id(song_id)\n",
    "                year_class = get_year_class(year)\n",
    "                ids_per_year[year_class].append(song_id)\n",
    "        \n",
    "        for label, song_id_list in ids_per_label.items():\n",
    "            print(f'{data_type} {label}: {len(song_id_list)}')\n",
    "        for year, song_id_list in ids_per_year.items():\n",
    "            print(f'{data_type} {year}: {len(song_id_list)}')\n",
    "\n",
    "        print('-' * 50)"
   ]
  },
  {
   "cell_type": "code",
   "execution_count": 8,
   "metadata": {},
   "outputs": [
    {
     "name": "stderr",
     "output_type": "stream",
     "text": [
      "Loading train data: 100%|██████████| 3348/3348 [00:02<00:00, 1258.25it/s]\n",
      "100%|██████████| 53/53 [00:03<00:00, 15.87it/s]\n"
     ]
    },
    {
     "name": "stdout",
     "output_type": "stream",
     "text": [
      "Test Loss: 1.3784\n",
      "Test Label Accuracy: 0.3889\n",
      "Test Year Accuracy: 0.3907\n",
      "Total Examples: 3348\n"
     ]
    },
    {
     "name": "stderr",
     "output_type": "stream",
     "text": [
      "Loading valid data: 100%|██████████| 420/420 [00:01<00:00, 392.81it/s] \n",
      "100%|██████████| 7/7 [00:00<00:00, 17.86it/s]\n"
     ]
    },
    {
     "name": "stdout",
     "output_type": "stream",
     "text": [
      "Test Loss: 1.3780\n",
      "Test Label Accuracy: 0.3619\n",
      "Test Year Accuracy: 0.3881\n",
      "Total Examples: 420\n"
     ]
    },
    {
     "name": "stderr",
     "output_type": "stream",
     "text": [
      "Loading test data: 100%|██████████| 420/420 [01:22<00:00,  5.11it/s]\n",
      "100%|██████████| 90/90 [00:05<00:00, 16.78it/s]\n"
     ]
    },
    {
     "name": "stdout",
     "output_type": "stream",
     "text": [
      "Test Loss: 1.4118\n",
      "Test Label Accuracy: 0.3599\n",
      "Test Year Accuracy: 0.3814\n",
      "Total Examples: 5727\n"
     ]
    }
   ],
   "source": [
    "from tester import test_model\n",
    "test_model()"
   ]
  },
  {
   "cell_type": "code",
   "execution_count": null,
   "metadata": {},
   "outputs": [],
   "source": [
    "# song_usage_json_path = Path('kpop-dataset/song_usage.json')\n",
    "# song_usage_dict = load_json(song_usage_json_path)\n",
    "\n",
    "# for data_type, song_id_dict in song_usage_dict.items():\n",
    "#     if data_type in ['case_study']:\n",
    "#         for case_name, song_id_list in song_id_dict.items():\n",
    "#             if not case_name == ['artist']:\n",
    "#                 continue\n",
    "#             predicted_label_per_artist = {}\n",
    "#             for song_id in song_id_list:\n",
    "#                 year, title, _ = decode_song_id(song_id)\n",
    "#                 year_class = get_year_class(year)\n",
    "                \n",
    "#                 predicted_label_per_artist[title] = year_class\n",
    "\n",
    "\n",
    "#                 ids_per_year[year_class].append(song_id)\n",
    "        \n",
    "#         for label, song_id_list in ids_per_label.items():\n",
    "#             print(f'{data_type} {label}: {len(song_id_list)}')\n",
    "#         for year, song_id_list in ids_per_year.items():\n",
    "#             print(f'{data_type} {year}: {len(song_id_list)}')\n",
    "\n",
    "#         print('-' * 50)"
   ]
  }
 ],
 "metadata": {
  "kernelspec": {
   "display_name": "kpop",
   "language": "python",
   "name": "python3"
  },
  "language_info": {
   "codemirror_mode": {
    "name": "ipython",
    "version": 3
   },
   "file_extension": ".py",
   "mimetype": "text/x-python",
   "name": "python",
   "nbconvert_exporter": "python",
   "pygments_lexer": "ipython3",
   "version": "3.10.14"
  }
 },
 "nbformat": 4,
 "nbformat_minor": 2
}
