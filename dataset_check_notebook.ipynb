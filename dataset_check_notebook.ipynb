{
 "cells": [
  {
   "cell_type": "code",
   "execution_count": 1,
   "metadata": {},
   "outputs": [],
   "source": [
    "from collections import defaultdict\n",
    "\n",
    "import pandas as pd\n",
    "from pathlib import Path\n",
    "\n",
    "from utils.json import load_json\n",
    "from utils.song_id import decode_song_id"
   ]
  },
  {
   "cell_type": "code",
   "execution_count": 2,
   "metadata": {},
   "outputs": [],
   "source": [
    "def get_year_class(year):\n",
    "    year = int(year)\n",
    "    year = max(1995, year)\n",
    "    year = min(2024, year)\n",
    "    return (year - 1995) // 6"
   ]
  },
  {
   "cell_type": "code",
   "execution_count": 3,
   "metadata": {},
   "outputs": [
    {
     "name": "stdout",
     "output_type": "stream",
     "text": [
      "train SM: 837\n",
      "train YG: 837\n",
      "train JYP: 837\n",
      "train HYBE: 837\n",
      "train 0: 120\n",
      "train 1: 357\n",
      "train 2: 519\n",
      "train 3: 1081\n",
      "train 4: 1271\n",
      "--------------------------------------------------\n",
      "valid SM: 105\n",
      "valid YG: 105\n",
      "valid JYP: 105\n",
      "valid HYBE: 105\n",
      "valid 0: 11\n",
      "valid 1: 48\n",
      "valid 2: 64\n",
      "valid 3: 137\n",
      "valid 4: 160\n",
      "--------------------------------------------------\n",
      "test SM: 105\n",
      "test YG: 105\n",
      "test JYP: 105\n",
      "test HYBE: 105\n",
      "test 0: 13\n",
      "test 1: 43\n",
      "test 2: 74\n",
      "test 3: 154\n",
      "test 4: 136\n",
      "--------------------------------------------------\n"
     ]
    }
   ],
   "source": [
    "song_usage_json_path = Path('kpop-dataset/song_usage.json')\n",
    "song_usage_dict = load_json(song_usage_json_path)\n",
    "\n",
    "for data_type, song_id_dict in song_usage_dict.items():\n",
    "    if data_type in ['train', 'test', 'valid']:\n",
    "        ids_per_label = {}\n",
    "        ids_per_year = defaultdict(list)\n",
    "        for label, song_id_list in song_id_dict.items():\n",
    "            ids_per_label[label] = set(song_id_list)\n",
    "            for song_id in song_id_list:\n",
    "                year, _, _ = decode_song_id(song_id)\n",
    "                year_class = get_year_class(year)\n",
    "                ids_per_year[year_class].append(song_id)\n",
    "        \n",
    "        for label, song_id_list in ids_per_label.items():\n",
    "            print(f'{data_type} {label}: {len(song_id_list)}')\n",
    "        for year, song_id_list in ids_per_year.items():\n",
    "            print(f'{data_type} {year}: {len(song_id_list)}')\n",
    "\n",
    "        print('-' * 50)"
   ]
  },
  {
   "cell_type": "code",
   "execution_count": 4,
   "metadata": {},
   "outputs": [
    {
     "data": {
      "application/vnd.jupyter.widget-view+json": {
       "model_id": "ae55df7ec02746ed8273606428b4a622",
       "version_major": 2,
       "version_minor": 0
      },
      "text/plain": [
       "Loading train data:   0%|          | 0/3348 [00:00<?, ?it/s]"
      ]
     },
     "metadata": {},
     "output_type": "display_data"
    },
    {
     "name": "stdout",
     "output_type": "stream",
     "text": [
      "Test Loss: 1.3784\n",
      "Test Label Accuracy: 0.3889\n",
      "Test Year Accuracy: 0.3907\n",
      "Total Examples: 3348\n"
     ]
    },
    {
     "data": {
      "application/vnd.jupyter.widget-view+json": {
       "model_id": "232d6c37d81f414e9d2f83ab55b3c445",
       "version_major": 2,
       "version_minor": 0
      },
      "text/plain": [
       "Loading valid data:   0%|          | 0/420 [00:00<?, ?it/s]"
      ]
     },
     "metadata": {},
     "output_type": "display_data"
    },
    {
     "name": "stdout",
     "output_type": "stream",
     "text": [
      "Test Loss: 1.3780\n",
      "Test Label Accuracy: 0.3619\n",
      "Test Year Accuracy: 0.3881\n",
      "Total Examples: 420\n"
     ]
    },
    {
     "data": {
      "application/vnd.jupyter.widget-view+json": {
       "model_id": "50d1390630ec44f78924a26ade7d3520",
       "version_major": 2,
       "version_minor": 0
      },
      "text/plain": [
       "Loading test data:   0%|          | 0/420 [00:00<?, ?it/s]"
      ]
     },
     "metadata": {},
     "output_type": "display_data"
    },
    {
     "name": "stdout",
     "output_type": "stream",
     "text": [
      "Test Loss: 1.4118\n",
      "Test Label Accuracy: 0.3599\n",
      "Test Year Accuracy: 0.3814\n",
      "Total Examples: 5727\n"
     ]
    }
   ],
   "source": [
    "from tester import test_model\n",
    "test_model()"
   ]
  },
  {
   "cell_type": "code",
   "execution_count": null,
   "metadata": {},
   "outputs": [],
   "source": []
  }
 ],
 "metadata": {
  "kernelspec": {
   "display_name": "kpop",
   "language": "python",
   "name": "python3"
  },
  "language_info": {
   "codemirror_mode": {
    "name": "ipython",
    "version": 3
   },
   "file_extension": ".py",
   "mimetype": "text/x-python",
   "name": "python",
   "nbconvert_exporter": "python",
   "pygments_lexer": "ipython3",
   "version": "3.10.14"
  }
 },
 "nbformat": 4,
 "nbformat_minor": 2
}
